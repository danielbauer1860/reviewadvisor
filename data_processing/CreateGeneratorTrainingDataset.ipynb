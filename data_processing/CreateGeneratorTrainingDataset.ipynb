{
 "cells": [
  {
   "cell_type": "code",
   "execution_count": 25,
   "metadata": {},
   "outputs": [],
   "source": [
    "import pandas as pd\n",
    "import seaborn as sns\n",
    "import matplotlib.pyplot as plt\n",
    "import matplotlib.ticker as ticker"
   ]
  },
  {
   "cell_type": "code",
   "execution_count": 69,
   "metadata": {},
   "outputs": [],
   "source": [
    "df = pd.read_csv(\"../data/pre_processed/pre_processed_data.csv\")\n",
    "df.drop(columns=['Unnamed: 0', 'property_dict', 'author'], inplace=True)"
   ]
  },
  {
   "cell_type": "code",
   "execution_count": 3,
   "metadata": {},
   "outputs": [
    {
     "data": {
      "text/html": [
       "<div>\n",
       "<style scoped>\n",
       "    .dataframe tbody tr th:only-of-type {\n",
       "        vertical-align: middle;\n",
       "    }\n",
       "\n",
       "    .dataframe tbody tr th {\n",
       "        vertical-align: top;\n",
       "    }\n",
       "\n",
       "    .dataframe thead th {\n",
       "        text-align: right;\n",
       "    }\n",
       "</style>\n",
       "<table border=\"1\" class=\"dataframe\">\n",
       "  <thead>\n",
       "    <tr style=\"text-align: right;\">\n",
       "      <th></th>\n",
       "      <th>Unnamed: 0</th>\n",
       "      <th>hotel_url</th>\n",
       "      <th>author</th>\n",
       "      <th>date</th>\n",
       "      <th>rating</th>\n",
       "      <th>title</th>\n",
       "      <th>text</th>\n",
       "      <th>property_dict</th>\n",
       "    </tr>\n",
       "  </thead>\n",
       "  <tbody>\n",
       "    <tr>\n",
       "      <th>0</th>\n",
       "      <td>0</td>\n",
       "      <td>Hotel_Review-g194775-d1121769-Reviews-Hotel_Ba...</td>\n",
       "      <td>violettaf340</td>\n",
       "      <td>2019-01-01T00:00:00</td>\n",
       "      <td>5.0</td>\n",
       "      <td>Xmas holiday</td>\n",
       "      <td>We went here with our kids for Xmas holiday an...</td>\n",
       "      <td>{}</td>\n",
       "    </tr>\n",
       "    <tr>\n",
       "      <th>1</th>\n",
       "      <td>1</td>\n",
       "      <td>Hotel_Review-g644280-d1821178-Reviews-Agrituri...</td>\n",
       "      <td>kiarek</td>\n",
       "      <td>2018-10-01T00:00:00</td>\n",
       "      <td>5.0</td>\n",
       "      <td>Great time in a lovely location</td>\n",
       "      <td>I had a wonderful time for a couple of nights....</td>\n",
       "      <td>{'rooms': 5.0, 'service': 5.0, 'value': 5.0}</td>\n",
       "    </tr>\n",
       "    <tr>\n",
       "      <th>2</th>\n",
       "      <td>2</td>\n",
       "      <td>Hotel_Review-g644280-d1821178-Reviews-Agrituri...</td>\n",
       "      <td>hbayley</td>\n",
       "      <td>2015-03-01T00:00:00</td>\n",
       "      <td>3.0</td>\n",
       "      <td>Chilly on a winter's night</td>\n",
       "      <td>When traveling to Tuscany in winter, please kn...</td>\n",
       "      <td>{'service': 3.0, 'cleanliness': 5.0, 'location...</td>\n",
       "    </tr>\n",
       "    <tr>\n",
       "      <th>3</th>\n",
       "      <td>3</td>\n",
       "      <td>Hotel_Review-g312848-d4173038-Reviews-Villa_Hu...</td>\n",
       "      <td>SoniaC385</td>\n",
       "      <td>2018-10-01T00:00:00</td>\n",
       "      <td>5.0</td>\n",
       "      <td>Highly recommended</td>\n",
       "      <td>The hotel is new and very neat. Comfortable ro...</td>\n",
       "      <td>{'rooms': 5.0, 'service': 5.0, 'cleanliness': ...</td>\n",
       "    </tr>\n",
       "    <tr>\n",
       "      <th>4</th>\n",
       "      <td>4</td>\n",
       "      <td>Hotel_Review-g312848-d4173038-Reviews-Villa_Hu...</td>\n",
       "      <td>baroff_11</td>\n",
       "      <td>2016-02-01T00:00:00</td>\n",
       "      <td>3.0</td>\n",
       "      <td>Quiet and modern</td>\n",
       "      <td>The hotel consists of three sites located on a...</td>\n",
       "      <td>{'service': 4.0, 'cleanliness': 4.0, 'value': ...</td>\n",
       "    </tr>\n",
       "  </tbody>\n",
       "</table>\n",
       "</div>"
      ],
      "text/plain": [
       "   Unnamed: 0                                          hotel_url  \\\n",
       "0           0  Hotel_Review-g194775-d1121769-Reviews-Hotel_Ba...   \n",
       "1           1  Hotel_Review-g644280-d1821178-Reviews-Agrituri...   \n",
       "2           2  Hotel_Review-g644280-d1821178-Reviews-Agrituri...   \n",
       "3           3  Hotel_Review-g312848-d4173038-Reviews-Villa_Hu...   \n",
       "4           4  Hotel_Review-g312848-d4173038-Reviews-Villa_Hu...   \n",
       "\n",
       "         author                 date  rating                            title  \\\n",
       "0  violettaf340  2019-01-01T00:00:00     5.0                     Xmas holiday   \n",
       "1        kiarek  2018-10-01T00:00:00     5.0  Great time in a lovely location   \n",
       "2       hbayley  2015-03-01T00:00:00     3.0       Chilly on a winter's night   \n",
       "3     SoniaC385  2018-10-01T00:00:00     5.0               Highly recommended   \n",
       "4     baroff_11  2016-02-01T00:00:00     3.0                 Quiet and modern   \n",
       "\n",
       "                                                text  \\\n",
       "0  We went here with our kids for Xmas holiday an...   \n",
       "1  I had a wonderful time for a couple of nights....   \n",
       "2  When traveling to Tuscany in winter, please kn...   \n",
       "3  The hotel is new and very neat. Comfortable ro...   \n",
       "4  The hotel consists of three sites located on a...   \n",
       "\n",
       "                                       property_dict  \n",
       "0                                                 {}  \n",
       "1       {'rooms': 5.0, 'service': 5.0, 'value': 5.0}  \n",
       "2  {'service': 3.0, 'cleanliness': 5.0, 'location...  \n",
       "3  {'rooms': 5.0, 'service': 5.0, 'cleanliness': ...  \n",
       "4  {'service': 4.0, 'cleanliness': 4.0, 'value': ...  "
      ]
     },
     "execution_count": 3,
     "metadata": {},
     "output_type": "execute_result"
    }
   ],
   "source": [
    "df.head()"
   ]
  },
  {
   "cell_type": "code",
   "execution_count": 67,
   "metadata": {},
   "outputs": [
    {
     "data": {
      "image/png": "[encoded data removed]",
      "text/plain": [
       "<Figure size 640x480 with 1 Axes>"
      ]
     },
     "metadata": {},
     "output_type": "display_data"
    }
   ],
   "source": [
    "df['date'] = pd.to_datetime(df['date'])\n",
    "\n",
    "start_year = df['date'].dt.year.min()\n",
    "end_year = df['date'].dt.year.max()\n",
    "bin_width = 0.5\n",
    "\n",
    "num_bins = int((end_year - start_year) / bin_width) + 1\n",
    "\n",
    "# Calculate the bin edges\n",
    "bin_edges = [start_year + i * bin_width for i in range(num_bins + 1)]\n",
    "\n",
    "# Create a histogram of the years with specified bins\n",
    "ax = sns.histplot(df['date'].dt.year, kde=False, bins=num_bins)\n",
    "\n",
    "# Customize the x-axis\n",
    "ax.set_xlim(start_year, end_year)  # Set the x-axis limits\n",
    "ax.xaxis.set_major_locator(ticker.MultipleLocator(2))  # Set tick locations every 2 years\n",
    "ax.xaxis.set_major_formatter(ticker.ScalarFormatter())  # Use a scalar formatter for tick labels\n",
    "\n",
    "# Show the plot\n",
    "plt.show()"
   ]
  },
  {
   "cell_type": "code",
   "execution_count": 52,
   "metadata": {},
   "outputs": [
    {
     "name": "stderr",
     "output_type": "stream",
     "text": [
      "C:\\Users\\danie\\AppData\\Local\\Temp\\ipykernel_16812\\2092535143.py:1: UserWarning: \n",
      "\n",
      "`distplot` is a deprecated function and will be removed in seaborn v0.14.0.\n",
      "\n",
      "Please adapt your code to use either `displot` (a figure-level function with\n",
      "similar flexibility) or `histplot` (an axes-level function for histograms).\n",
      "\n",
      "For a guide to updating your code to use the new functions, please see\n",
      "https://gist.github.com/mwaskom/de44147ed2974457ad6372750bbe5751\n",
      "\n",
      "  sns.distplot(df['rating'], kde=False)\n"
     ]
    },
    {
     "data": {
      "text/plain": [
       "<AxesSubplot: xlabel='rating'>"
      ]
     },
     "execution_count": 52,
     "metadata": {},
     "output_type": "execute_result"
    },
    {
     "data": {
      "image/png": "[encoded data removed]",
      "text/plain": [
       "<Figure size 640x480 with 1 Axes>"
      ]
     },
     "metadata": {},
     "output_type": "display_data"
    }
   ],
   "source": [
    "sns.distplot(df['rating'], kde=False)"
   ]
  }
 ],
 "metadata": {
  "kernelspec": {
   "display_name": "Python 3",
   "language": "python",
   "name": "python3"
  },
  "language_info": {
   "codemirror_mode": {
    "name": "ipython",
    "version": 3
   },
   "file_extension": ".py",
   "mimetype": "text/x-python",
   "name": "python",
   "nbconvert_exporter": "python",
   "pygments_lexer": "ipython3",
   "version": "3.9.5"
  },
  "orig_nbformat": 4
 },
 "nbformat": 4,
 "nbformat_minor": 2
}
