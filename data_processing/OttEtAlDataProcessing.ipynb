{
 "cells": [
  {
   "cell_type": "code",
   "execution_count": 3,
   "metadata": {},
   "outputs": [],
   "source": [
    "from pathlib import Path\n",
    "import os"
   ]
  },
  {
   "cell_type": "code",
   "execution_count": 5,
   "metadata": {},
   "outputs": [
    {
     "ename": "FileNotFoundError",
     "evalue": "[WinError 3] The system cannot find the path specified: '.\\\\data\\\\ott_et_al_data'",
     "output_type": "error",
     "traceback": [
      "\u001b[1;31m---------------------------------------------------------------------------\u001b[0m",
      "\u001b[1;31mFileNotFoundError\u001b[0m                         Traceback (most recent call last)",
      "\u001b[1;32mc:\\Users\\danie\\Desktop\\Studium\\Master\\Sommer 2023\\NLP\\ReviewAdvisor\\data_processing\\OttEtAlDataProcessing.ipynb Cell 2\u001b[0m line \u001b[0;36m2\n\u001b[0;32m      <a href='vscode-notebook-cell:/c%3A/Users/danie/Desktop/Studium/Master/Sommer%202023/NLP/ReviewAdvisor/data_processing/OttEtAlDataProcessing.ipynb#W1sZmlsZQ%3D%3D?line=0'>1</a>\u001b[0m dataset_path \u001b[39m=\u001b[39m \u001b[39m'\u001b[39m\u001b[39m.\u001b[39m\u001b[39m\\\u001b[39m\u001b[39mdata\u001b[39m\u001b[39m\\\u001b[39m\u001b[39mott_et_al_data\u001b[39m\u001b[39m'\u001b[39m\n\u001b[1;32m----> <a href='vscode-notebook-cell:/c%3A/Users/danie/Desktop/Studium/Master/Sommer%202023/NLP/ReviewAdvisor/data_processing/OttEtAlDataProcessing.ipynb#W1sZmlsZQ%3D%3D?line=1'>2</a>\u001b[0m filedataset \u001b[39m=\u001b[39m os\u001b[39m.\u001b[39;49mlistdir(dataset_path)\n",
      "\u001b[1;31mFileNotFoundError\u001b[0m: [WinError 3] The system cannot find the path specified: '.\\\\data\\\\ott_et_al_data'"
     ]
    }
   ],
   "source": [
    "dataset_path = '.\\data\\ott_et_al_data'\n",
    "filedataset = os.listdir(dataset_path)"
   ]
  }
 ],
 "metadata": {
  "kernelspec": {
   "display_name": "Python 3",
   "language": "python",
   "name": "python3"
  },
  "language_info": {
   "codemirror_mode": {
    "name": "ipython",
    "version": 3
   },
   "file_extension": ".py",
   "mimetype": "text/x-python",
   "name": "python",
   "nbconvert_exporter": "python",
   "pygments_lexer": "ipython3",
   "version": "3.9.5"
  },
  "orig_nbformat": 4
 },
 "nbformat": 4,
 "nbformat_minor": 2
}
