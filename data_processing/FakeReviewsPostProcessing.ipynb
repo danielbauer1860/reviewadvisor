{
  "cells": [
    {
      "cell_type": "code",
      "source": [
        "from google.colab import drive\n",
        "drive.mount('/content/drive')"
      ],
      "metadata": {
        "colab": {
          "base_uri": "https://localhost:8080/"
        },
        "id": "GATs92YI-cB_",
        "outputId": "4a6f7110-2da8-49a1-9e6c-ca10196fa1ef"
      },
      "execution_count": 3,
      "outputs": [
        {
          "output_type": "stream",
          "name": "stdout",
          "text": [
            "Mounted at /content/drive\n"
          ]
        }
      ]
    },
    {
      "cell_type": "code",
      "execution_count": 30,
      "metadata": {
        "id": "jbpj-MU3-JSm"
      },
      "outputs": [],
      "source": [
        "import pandas as pd\n",
        "import re"
      ]
    },
    {
      "cell_type": "code",
      "source": [
        "fake_reviews_1 = pd.read_csv(\"/content/drive/MyDrive/data/fake_reviews.csv\", names=['text'])\n",
        "fake_reviews_2 = pd.read_csv(\"/content/drive/MyDrive/data/fake_reviews_continued.csv\", names = ['text'])\n",
        "\n",
        "real_reviews = pd.read_csv('/content/drive/MyDrive/data/sampled_dataset.csv', usecols=['text'])"
      ],
      "metadata": {
        "id": "n8Vn01m0-KEX"
      },
      "execution_count": 35,
      "outputs": []
    },
    {
      "cell_type": "code",
      "source": [
        "fake_reviews = pd.concat([fake_reviews_1, fake_reviews_2], ignore_index=True)"
      ],
      "metadata": {
        "id": "VfpUlW6q-4AW"
      },
      "execution_count": 36,
      "outputs": []
    },
    {
      "cell_type": "code",
      "source": [
        "fake_reviews = fake_reviews[fake_reviews['text'] != '0']"
      ],
      "metadata": {
        "id": "uM9X0oA1_RTb"
      },
      "execution_count": 37,
      "outputs": []
    },
    {
      "cell_type": "code",
      "source": [
        "print(fake_reviews.iloc[4]['text'])"
      ],
      "metadata": {
        "colab": {
          "base_uri": "https://localhost:8080/"
        },
        "id": "youziZb3BQQR",
        "outputId": "dd2a1fcb-ea77-49ce-a658-926ea6619d4e"
      },
      "execution_count": 42,
      "outputs": [
        {
          "output_type": "stream",
          "name": "stdout",
          "text": [
            "i have stayed at this hotel before and it was great, the staff are very nice and helpful, the location is great not too far from the city centre, but also out of the way so you don't have a lot of traffic noise, the room was very nice and\n"
          ]
        }
      ]
    },
    {
      "cell_type": "markdown",
      "source": [],
      "metadata": {
        "id": "thk3-73lD-Hz"
      }
    },
    {
      "cell_type": "code",
      "source": [
        "def post_process_text(text):\n",
        "    # regex that splits the sentences\n",
        "    sentences = re.split(r'(?<!\\w\\.\\w)(?<![A-Z][a-z]\\.)(?<=\\.|\\?)\\s', text)\n",
        "\n",
        "    # Check if the last sentence meets the criteria for deletion as also described in Salminen et al.\n",
        "    if len(sentences) > 0 and sentences[-1].endswith('.') and len(sentences[-1].split()) <= 3:\n",
        "        return ' '.join(sentences[:-1])\n",
        "    else:\n",
        "        return text\n"
      ],
      "metadata": {
        "id": "ZLmJg0RKBNdw"
      },
      "execution_count": 43,
      "outputs": []
    },
    {
      "cell_type": "code",
      "source": [
        "fake_reviews['text'] = fake_reviews['text'].apply(post_process_text)"
      ],
      "metadata": {
        "id": "0P7a3JFACje-"
      },
      "execution_count": 44,
      "outputs": []
    },
    {
      "cell_type": "markdown",
      "source": [
        "When continuing the generation process, I accidently skipped one prompt, meaning that only 4999 reviews are produced. To maintain a balanced sample, only 4999 real reviews will be used."
      ],
      "metadata": {
        "id": "2ZfveXGBENL2"
      }
    },
    {
      "cell_type": "code",
      "source": [
        "real_reviews = real_reviews.sample(n=4999, random_state=2023).reset_index()\n",
        "real_reviews.drop(columns=['index'], inplace=True)"
      ],
      "metadata": {
        "id": "zfxaqDvyCc4y"
      },
      "execution_count": 47,
      "outputs": []
    },
    {
      "cell_type": "code",
      "source": [
        "real_reviews['label'] = 1\n",
        "fake_reviews['label'] = 0"
      ],
      "metadata": {
        "id": "YC9eE90_Ecbn"
      },
      "execution_count": 53,
      "outputs": []
    },
    {
      "cell_type": "code",
      "source": [
        "result_df = pd.concat([real_reviews, fake_reviews], ignore_index=True)"
      ],
      "metadata": {
        "id": "tYm0WgNuEqPS"
      },
      "execution_count": 54,
      "outputs": []
    },
    {
      "cell_type": "code",
      "source": [
        "result_df.to_csv('/content/drive/MyDrive/data/final_review_dataset.csv', sep=\";\", index=False)"
      ],
      "metadata": {
        "id": "ukz2XLsYE7dI"
      },
      "execution_count": 55,
      "outputs": []
    }
  ],
  "metadata": {
    "language_info": {
      "name": "python"
    },
    "orig_nbformat": 4,
    "colab": {
      "provenance": []
    },
    "kernelspec": {
      "name": "python3",
      "display_name": "Python 3"
    }
  },
  "nbformat": 4,
  "nbformat_minor": 0
}