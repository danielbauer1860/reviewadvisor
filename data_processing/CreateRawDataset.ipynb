{
 "cells": [
  {
   "cell_type": "code",
   "execution_count": 4,
   "metadata": {},
   "outputs": [],
   "source": [
    "import pandas as pd\n",
    "import json\n",
    "import numpy as np"
   ]
  },
  {
   "cell_type": "markdown",
   "metadata": {},
   "source": [
    "The original 50 GB HotelRec file (available at https://github.com/Diego999/HotelRec) containing 50 million reviews is split into 50 smaller files containing 1 million reviews apiece. "
   ]
  },
  {
   "cell_type": "code",
   "execution_count": null,
   "metadata": {},
   "outputs": [],
   "source": [
    "#https://stackoverflow.com/questions/16289859/splitting-large-text-file-into-smaller-text-files-by-line-numbers-using-python\n",
    "split_file_path = 'D:\\project_data\\split_data\\'\n",
    "lines_per_file = 1000000\n",
    "smallfile = None\n",
    "with open('file_path_original') as bigfile:\n",
    "    for lineno, line in enumerate(bigfile):\n",
    "        if lineno % lines_per_file == 0:\n",
    "            if smallfile:\n",
    "                smallfile.close()\n",
    "            small_filename = 'small_file_{}.txt'.format(lineno + lines_per_file)\n",
    "            smallfile = open(f'{split_file_path}{small_filename}', \"w\")\n",
    "        smallfile.write(line)\n",
    "    if smallfile:\n",
    "        smallfile.close()"
   ]
  },
  {
   "cell_type": "markdown",
   "metadata": {},
   "source": [
    "Declaring the relevant paths"
   ]
  },
  {
   "cell_type": "code",
   "execution_count": 19,
   "metadata": {},
   "outputs": [],
   "source": [
    "file_paths = ['D:\\project_data\\split_data\\small_file_{}.txt'.format(i) for i in range(1000000, 50000001, 1000000)]\n",
    "target_path = r'.\\data\\pre_processed\\sampled_dataset.csv'"
   ]
  },
  {
   "cell_type": "markdown",
   "metadata": {},
   "source": [
    "Storing the data of the 50 separate files into a single dataframe"
   ]
  },
  {
   "cell_type": "code",
   "execution_count": 5,
   "metadata": {},
   "outputs": [
    {
     "data": {
      "text/html": [
       "<div>\n",
       "<style scoped>\n",
       "    .dataframe tbody tr th:only-of-type {\n",
       "        vertical-align: middle;\n",
       "    }\n",
       "\n",
       "    .dataframe tbody tr th {\n",
       "        vertical-align: top;\n",
       "    }\n",
       "\n",
       "    .dataframe thead th {\n",
       "        text-align: right;\n",
       "    }\n",
       "</style>\n",
       "<table border=\"1\" class=\"dataframe\">\n",
       "  <thead>\n",
       "    <tr style=\"text-align: right;\">\n",
       "      <th></th>\n",
       "      <th>hotel_url</th>\n",
       "      <th>author</th>\n",
       "      <th>date</th>\n",
       "      <th>rating</th>\n",
       "      <th>title</th>\n",
       "      <th>text</th>\n",
       "      <th>property_dict</th>\n",
       "    </tr>\n",
       "  </thead>\n",
       "  <tbody>\n",
       "    <tr>\n",
       "      <th>0</th>\n",
       "      <td>Hotel_Review-g194775-d1121769-Reviews-Hotel_Ba...</td>\n",
       "      <td>violettaf340</td>\n",
       "      <td>2019-01-01T00:00:00</td>\n",
       "      <td>5.0</td>\n",
       "      <td>Xmas holiday</td>\n",
       "      <td>We went here with our kids for Xmas holiday an...</td>\n",
       "      <td>{}</td>\n",
       "    </tr>\n",
       "    <tr>\n",
       "      <th>1</th>\n",
       "      <td>Hotel_Review-g147425-d248380-Reviews-Tiamo_Res...</td>\n",
       "      <td>TightlinesScotland</td>\n",
       "      <td>2010-04-01T00:00:00</td>\n",
       "      <td>5.0</td>\n",
       "      <td>Perfect tranquil break.</td>\n",
       "      <td>We have just returned from a wonderful holiday...</td>\n",
       "      <td>{'sleep quality': 5.0, 'value': 5.0, 'rooms': ...</td>\n",
       "    </tr>\n",
       "    <tr>\n",
       "      <th>2</th>\n",
       "      <td>Hotel_Review-g551934-d568713-Reviews-Ben_More_...</td>\n",
       "      <td>Kev_8</td>\n",
       "      <td>2015-09-01T00:00:00</td>\n",
       "      <td>4.0</td>\n",
       "      <td>Superb overnight stay</td>\n",
       "      <td>Stayed overnight on tour, lodge was clean/comp...</td>\n",
       "      <td>{'service': 4.0, 'cleanliness': 4.0, 'location...</td>\n",
       "    </tr>\n",
       "    <tr>\n",
       "      <th>3</th>\n",
       "      <td>Hotel_Review-g181750-d253066-Reviews-Inn_On_Th...</td>\n",
       "      <td>fuzzyminx</td>\n",
       "      <td>2016-01-01T00:00:00</td>\n",
       "      <td>5.0</td>\n",
       "      <td>Beautiful inn in a charming town</td>\n",
       "      <td>Great desk staff, excellent beds. We stayed in...</td>\n",
       "      <td>{'service': 5.0, 'location': 5.0, 'value': 4.0}</td>\n",
       "    </tr>\n",
       "    <tr>\n",
       "      <th>4</th>\n",
       "      <td>Hotel_Review-g293974-d294909-Reviews-Kalyon_Ho...</td>\n",
       "      <td>JUANGARCIAHERCE</td>\n",
       "      <td>2010-09-01T00:00:00</td>\n",
       "      <td>3.0</td>\n",
       "      <td>Very noisy hotel</td>\n",
       "      <td>At 2.00 in the morning somebody from a close r...</td>\n",
       "      <td>{'sleep quality': 2.0, 'value': 2.0, 'rooms': ...</td>\n",
       "    </tr>\n",
       "  </tbody>\n",
       "</table>\n",
       "</div>"
      ],
      "text/plain": [
       "                                           hotel_url              author  \\\n",
       "0  Hotel_Review-g194775-d1121769-Reviews-Hotel_Ba...        violettaf340   \n",
       "1  Hotel_Review-g147425-d248380-Reviews-Tiamo_Res...  TightlinesScotland   \n",
       "2  Hotel_Review-g551934-d568713-Reviews-Ben_More_...               Kev_8   \n",
       "3  Hotel_Review-g181750-d253066-Reviews-Inn_On_Th...           fuzzyminx   \n",
       "4  Hotel_Review-g293974-d294909-Reviews-Kalyon_Ho...     JUANGARCIAHERCE   \n",
       "\n",
       "                  date  rating                             title  \\\n",
       "0  2019-01-01T00:00:00     5.0                      Xmas holiday   \n",
       "1  2010-04-01T00:00:00     5.0           Perfect tranquil break.   \n",
       "2  2015-09-01T00:00:00     4.0             Superb overnight stay   \n",
       "3  2016-01-01T00:00:00     5.0  Beautiful inn in a charming town   \n",
       "4  2010-09-01T00:00:00     3.0                  Very noisy hotel   \n",
       "\n",
       "                                                text  \\\n",
       "0  We went here with our kids for Xmas holiday an...   \n",
       "1  We have just returned from a wonderful holiday...   \n",
       "2  Stayed overnight on tour, lodge was clean/comp...   \n",
       "3  Great desk staff, excellent beds. We stayed in...   \n",
       "4  At 2.00 in the morning somebody from a close r...   \n",
       "\n",
       "                                       property_dict  \n",
       "0                                                 {}  \n",
       "1  {'sleep quality': 5.0, 'value': 5.0, 'rooms': ...  \n",
       "2  {'service': 4.0, 'cleanliness': 4.0, 'location...  \n",
       "3    {'service': 5.0, 'location': 5.0, 'value': 4.0}  \n",
       "4  {'sleep quality': 2.0, 'value': 2.0, 'rooms': ...  "
      ]
     },
     "execution_count": 5,
     "metadata": {},
     "output_type": "execute_result"
    }
   ],
   "source": [
    "all_data = []\n",
    "\n",
    "#getting every 2000th entry to obtain 25k samples of the original data\n",
    "for file_path in file_paths:\n",
    "    data = []\n",
    "    with open(file_path, 'r') as file:\n",
    "        line_number = 0\n",
    "        for line in file:\n",
    "            if line_number % 2000 == 0:\n",
    "                data.append(json.loads(line))\n",
    "            line_number += 1\n",
    "    all_data.extend(data)\n",
    "\n",
    "\n",
    "df = pd.DataFrame(all_data)\n",
    "\n",
    "df.head()"
   ]
  },
  {
   "cell_type": "markdown",
   "metadata": {},
   "source": [
    "Exporting the dataframe to a csv file."
   ]
  },
  {
   "cell_type": "code",
   "execution_count": 20,
   "metadata": {},
   "outputs": [],
   "source": [
    "df.to_csv(target_path)"
   ]
  }
 ],
 "metadata": {
  "kernelspec": {
   "display_name": "Python 3",
   "language": "python",
   "name": "python3"
  },
  "language_info": {
   "codemirror_mode": {
    "name": "ipython",
    "version": 3
   },
   "file_extension": ".py",
   "mimetype": "text/x-python",
   "name": "python",
   "nbconvert_exporter": "python",
   "pygments_lexer": "ipython3",
   "version": "3.9.5"
  },
  "orig_nbformat": 4
 },
 "nbformat": 4,
 "nbformat_minor": 2
}
