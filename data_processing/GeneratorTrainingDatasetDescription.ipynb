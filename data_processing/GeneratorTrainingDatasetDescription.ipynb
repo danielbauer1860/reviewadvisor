{
 "cells": [
  {
   "cell_type": "code",
   "execution_count": null,
   "metadata": {},
   "outputs": [],
   "source": [
    "import pandas as pd\n",
    "import seaborn as sns\n",
    "import matplotlib.pyplot as plt\n",
    "import matplotlib.ticker as ticker"
   ]
  },
  {
   "cell_type": "code",
   "execution_count": null,
   "metadata": {},
   "outputs": [],
   "source": [
    "df = pd.read_csv(\"../data/pre_processed/pre_processed_data.csv\")"
   ]
  },
  {
   "cell_type": "code",
   "execution_count": 1,
   "metadata": {},
   "outputs": [
    {
     "ename": "NameError",
     "evalue": "name 'df' is not defined",
     "output_type": "error",
     "traceback": [
      "\u001b[1;31m---------------------------------------------------------------------------\u001b[0m",
      "\u001b[1;31mNameError\u001b[0m                                 Traceback (most recent call last)",
      "Cell \u001b[1;32mIn[1], line 1\u001b[0m\n\u001b[1;32m----> 1\u001b[0m start_year \u001b[39m=\u001b[39m df[\u001b[39m'\u001b[39m\u001b[39mdate\u001b[39m\u001b[39m'\u001b[39m]\u001b[39m.\u001b[39mdt\u001b[39m.\u001b[39myear\u001b[39m.\u001b[39mmin()\n\u001b[0;32m      2\u001b[0m end_year \u001b[39m=\u001b[39m df[\u001b[39m'\u001b[39m\u001b[39mdate\u001b[39m\u001b[39m'\u001b[39m]\u001b[39m.\u001b[39mdt\u001b[39m.\u001b[39myear\u001b[39m.\u001b[39mmax()\n\u001b[0;32m      3\u001b[0m bin_width \u001b[39m=\u001b[39m \u001b[39m0.5\u001b[39m\n",
      "\u001b[1;31mNameError\u001b[0m: name 'df' is not defined"
     ]
    }
   ],
   "source": [
    "start_year = df['date'].dt.year.min()\n",
    "end_year = df['date'].dt.year.max()\n",
    "bin_width = 0.5\n",
    "\n",
    "num_bins = int((end_year - start_year) / bin_width) + 1\n",
    "\n",
    "# Calculate the bin edges\n",
    "bin_edges = [start_year + i * bin_width for i in range(num_bins + 1)]\n",
    "\n",
    "# Create a histogram of the years with specified bins\n",
    "ax = sns.histplot(df['date'].dt.year, kde=False, bins=num_bins)\n",
    "\n",
    "# Customize the x-axis\n",
    "ax.set_xlim(start_year, end_year)  # Set the x-axis limits\n",
    "ax.xaxis.set_major_locator(ticker.MultipleLocator(2))  # Set tick locations every 2 years\n",
    "ax.xaxis.set_major_formatter(ticker.ScalarFormatter())  # Use a scalar formatter for tick labels\n",
    "\n",
    "# Show the plot\n",
    "plt.show()"
   ]
  },
  {
   "cell_type": "code",
   "execution_count": null,
   "metadata": {},
   "outputs": [],
   "source": [
    "sns.distplot(df['rating'], kde=False)"
   ]
  }
 ],
 "metadata": {
  "kernelspec": {
   "display_name": "Python 3",
   "language": "python",
   "name": "python3"
  },
  "language_info": {
   "codemirror_mode": {
    "name": "ipython",
    "version": 3
   },
   "file_extension": ".py",
   "mimetype": "text/x-python",
   "name": "python",
   "nbconvert_exporter": "python",
   "pygments_lexer": "ipython3",
   "version": "3.9.5"
  },
  "orig_nbformat": 4
 },
 "nbformat": 4,
 "nbformat_minor": 2
}
