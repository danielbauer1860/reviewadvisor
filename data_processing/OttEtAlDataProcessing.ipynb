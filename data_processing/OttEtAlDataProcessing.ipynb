{
  "cells": [
    {
      "cell_type": "markdown",
      "source": [
        "The original Ott et al. data is split as described in the paper. Further, it also has multiple txt files, which I merged into one csv file."
      ],
      "metadata": {
        "id": "AFBDZXDc-eg0"
      }
    },
    {
      "cell_type": "code",
      "execution_count": null,
      "metadata": {
        "id": "rw3wp1eZ-eBb"
      },
      "outputs": [],
      "source": [
        "import glob\n",
        "import itertools\n",
        "import pandas as pd"
      ]
    },
    {
      "cell_type": "code",
      "execution_count": null,
      "metadata": {
        "id": "lpfBmwo2-eBc"
      },
      "outputs": [],
      "source": [
        "output_dir_deceptive = '../data/ott_et_al_data/deceptive_data.txt'\n",
        "output_dir_truthful = '../data/ott_et_al_data/truthful_data.txt'\n",
        "\n",
        "deceptive_files = glob.glob('../data/ott_et_al_data/*/deceptive*/*/*.txt')\n",
        "truthful_files = glob.glob('../data/ott_et_al_data/*/truthful*/*/*.txt')"
      ]
    },
    {
      "cell_type": "code",
      "execution_count": null,
      "metadata": {
        "id": "56mo80xC-eBd"
      },
      "outputs": [],
      "source": [
        "with open (output_dir_deceptive, 'w') as outfile:\n",
        "    for line in itertools.chain.from_iterable(map(open, deceptive_files)):\n",
        "        outfile.write(f\"{line}\")\n",
        "\n",
        "with open (output_dir_truthful, 'w') as outfile:\n",
        "    for line in itertools.chain.from_iterable(map(open, truthful_files)):\n",
        "        outfile.write(f\"{line}\")"
      ]
    },
    {
      "cell_type": "code",
      "execution_count": null,
      "metadata": {
        "id": "OqTMoaoB-eBd"
      },
      "outputs": [],
      "source": [
        "deceptive_df = pd.read_csv(output_dir_deceptive, sep=\"\\0\", header=None, names=['text'])\n",
        "truthful_df = pd.read_csv(output_dir_truthful, sep=\"\\0\", header=None,  names=['text'])"
      ]
    },
    {
      "cell_type": "code",
      "execution_count": null,
      "metadata": {
        "id": "DsXRov49-eBe"
      },
      "outputs": [],
      "source": [
        "deceptive_df['label'] = 0\n",
        "truthful_df['label'] = 1"
      ]
    },
    {
      "cell_type": "code",
      "execution_count": null,
      "metadata": {
        "id": "0xEdyTCZ-eBe",
        "outputId": "e381fdb0-4d6f-45a1-a67f-bc7cc48d0a83"
      },
      "outputs": [
        {
          "data": {
            "text/html": [
              "<div>\n",
              "<style scoped>\n",
              "    .dataframe tbody tr th:only-of-type {\n",
              "        vertical-align: middle;\n",
              "    }\n",
              "\n",
              "    .dataframe tbody tr th {\n",
              "        vertical-align: top;\n",
              "    }\n",
              "\n",
              "    .dataframe thead th {\n",
              "        text-align: right;\n",
              "    }\n",
              "</style>\n",
              "<table border=\"1\" class=\"dataframe\">\n",
              "  <thead>\n",
              "    <tr style=\"text-align: right;\">\n",
              "      <th></th>\n",
              "      <th>text</th>\n",
              "      <th>label</th>\n",
              "    </tr>\n",
              "  </thead>\n",
              "  <tbody>\n",
              "    <tr>\n",
              "      <th>0</th>\n",
              "      <td>My $200 Gucci sunglasses were stolen out of my...</td>\n",
              "      <td>1</td>\n",
              "    </tr>\n",
              "    <tr>\n",
              "      <th>1</th>\n",
              "      <td>This was a gorgeous hotel from the outside and...</td>\n",
              "      <td>1</td>\n",
              "    </tr>\n",
              "    <tr>\n",
              "      <th>2</th>\n",
              "      <td>The hotel is very impressive upon entering and...</td>\n",
              "      <td>1</td>\n",
              "    </tr>\n",
              "    <tr>\n",
              "      <th>3</th>\n",
              "      <td>Going to the Internet Retailer 2010 at the las...</td>\n",
              "      <td>1</td>\n",
              "    </tr>\n",
              "    <tr>\n",
              "      <th>4</th>\n",
              "      <td>I checked into this hotel, Rm 1760 on 11/13/20...</td>\n",
              "      <td>1</td>\n",
              "    </tr>\n",
              "  </tbody>\n",
              "</table>\n",
              "</div>"
            ],
            "text/plain": [
              "                                                text  label\n",
              "0  My $200 Gucci sunglasses were stolen out of my...      1\n",
              "1  This was a gorgeous hotel from the outside and...      1\n",
              "2  The hotel is very impressive upon entering and...      1\n",
              "3  Going to the Internet Retailer 2010 at the las...      1\n",
              "4  I checked into this hotel, Rm 1760 on 11/13/20...      1"
            ]
          },
          "execution_count": 65,
          "metadata": {},
          "output_type": "execute_result"
        }
      ],
      "source": [
        "truthful_df.head()"
      ]
    },
    {
      "cell_type": "code",
      "execution_count": null,
      "metadata": {
        "id": "hSDRG7RV-eBe"
      },
      "outputs": [],
      "source": [
        "result_df = pd.concat([truthful_df, deceptive_df])"
      ]
    },
    {
      "cell_type": "code",
      "execution_count": null,
      "metadata": {
        "id": "N5AojpgH-eBf",
        "outputId": "bd481f21-6b7b-465d-eedd-22186c548ccd"
      },
      "outputs": [
        {
          "data": {
            "text/html": [
              "<div>\n",
              "<style scoped>\n",
              "    .dataframe tbody tr th:only-of-type {\n",
              "        vertical-align: middle;\n",
              "    }\n",
              "\n",
              "    .dataframe tbody tr th {\n",
              "        vertical-align: top;\n",
              "    }\n",
              "\n",
              "    .dataframe thead th {\n",
              "        text-align: right;\n",
              "    }\n",
              "</style>\n",
              "<table border=\"1\" class=\"dataframe\">\n",
              "  <thead>\n",
              "    <tr style=\"text-align: right;\">\n",
              "      <th></th>\n",
              "      <th>text</th>\n",
              "      <th>label</th>\n",
              "    </tr>\n",
              "  </thead>\n",
              "  <tbody>\n",
              "    <tr>\n",
              "      <th>795</th>\n",
              "      <td>The Palmer House Hilton hotel takes luxury to ...</td>\n",
              "      <td>0</td>\n",
              "    </tr>\n",
              "    <tr>\n",
              "      <th>796</th>\n",
              "      <td>We really enjoyed our stay at the Palmer House...</td>\n",
              "      <td>0</td>\n",
              "    </tr>\n",
              "    <tr>\n",
              "      <th>797</th>\n",
              "      <td>The Palmer House Hilton was recommended to me ...</td>\n",
              "      <td>0</td>\n",
              "    </tr>\n",
              "    <tr>\n",
              "      <th>798</th>\n",
              "      <td>My stay at The Palmer House Hilton was wonderf...</td>\n",
              "      <td>0</td>\n",
              "    </tr>\n",
              "    <tr>\n",
              "      <th>799</th>\n",
              "      <td>Amazing! I was swept away when I walked into t...</td>\n",
              "      <td>0</td>\n",
              "    </tr>\n",
              "  </tbody>\n",
              "</table>\n",
              "</div>"
            ],
            "text/plain": [
              "                                                  text  label\n",
              "795  The Palmer House Hilton hotel takes luxury to ...      0\n",
              "796  We really enjoyed our stay at the Palmer House...      0\n",
              "797  The Palmer House Hilton was recommended to me ...      0\n",
              "798  My stay at The Palmer House Hilton was wonderf...      0\n",
              "799  Amazing! I was swept away when I walked into t...      0"
            ]
          },
          "execution_count": 67,
          "metadata": {},
          "output_type": "execute_result"
        }
      ],
      "source": [
        "result_df.tail()"
      ]
    },
    {
      "cell_type": "code",
      "execution_count": null,
      "metadata": {
        "id": "dkK7jnoz-eBf"
      },
      "outputs": [],
      "source": [
        "result_df.to_csv('../data/ott_et_al_data/ott_et_al_processed.csv', sep=\";\", index=False)"
      ]
    }
  ],
  "metadata": {
    "kernelspec": {
      "display_name": "Python 3",
      "language": "python",
      "name": "python3"
    },
    "language_info": {
      "codemirror_mode": {
        "name": "ipython",
        "version": 3
      },
      "file_extension": ".py",
      "mimetype": "text/x-python",
      "name": "python",
      "nbconvert_exporter": "python",
      "pygments_lexer": "ipython3",
      "version": "3.9.5"
    },
    "orig_nbformat": 4,
    "colab": {
      "provenance": []
    }
  },
  "nbformat": 4,
  "nbformat_minor": 0
}