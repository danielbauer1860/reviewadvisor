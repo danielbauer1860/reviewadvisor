{
  "cells": [
    {
      "cell_type": "code",
      "source": [
        "from google.colab import drive\n",
        "drive.mount('/content/drive')"
      ],
      "metadata": {
        "colab": {
          "base_uri": "https://localhost:8080/"
        },
        "id": "GATs92YI-cB_",
        "outputId": "6d9ca934-9fdf-4489-cee2-c047bd53dc38"
      },
      "execution_count": 1,
      "outputs": [
        {
          "output_type": "stream",
          "name": "stdout",
          "text": [
            "Mounted at /content/drive\n"
          ]
        }
      ]
    },
    {
      "cell_type": "code",
      "execution_count": 2,
      "metadata": {
        "id": "jbpj-MU3-JSm"
      },
      "outputs": [],
      "source": [
        "import pandas as pd\n",
        "import re"
      ]
    },
    {
      "cell_type": "code",
      "source": [
        "fake_reviews_1 = pd.read_csv(\"/content/drive/MyDrive/data/fake_reviews.csv\", names=['text'])\n",
        "fake_reviews_2 = pd.read_csv(\"/content/drive/MyDrive/data/fake_reviews_continued.csv\", names = ['text'])\n",
        "\n",
        "real_reviews = pd.read_csv('/content/drive/MyDrive/data/sampled_dataset.csv', usecols=['text'])"
      ],
      "metadata": {
        "id": "n8Vn01m0-KEX"
      },
      "execution_count": 3,
      "outputs": []
    },
    {
      "cell_type": "code",
      "source": [
        "fake_reviews = pd.concat([fake_reviews_1, fake_reviews_2], ignore_index=True)"
      ],
      "metadata": {
        "id": "VfpUlW6q-4AW"
      },
      "execution_count": 4,
      "outputs": []
    },
    {
      "cell_type": "code",
      "source": [
        "fake_reviews = fake_reviews[fake_reviews['text'] != '0']"
      ],
      "metadata": {
        "id": "uM9X0oA1_RTb"
      },
      "execution_count": 5,
      "outputs": []
    },
    {
      "cell_type": "code",
      "source": [
        "print(fake_reviews.iloc[4]['text'])"
      ],
      "metadata": {
        "colab": {
          "base_uri": "https://localhost:8080/"
        },
        "id": "youziZb3BQQR",
        "outputId": "561e3155-5513-47d3-c94e-a11a46f93f41"
      },
      "execution_count": 16,
      "outputs": [
        {
          "output_type": "stream",
          "name": "stdout",
          "text": [
            "i have stayed at this hotel before and it was great, the staff are very nice and helpful, the location is great not too far from the city centre, but also out of the way so you don't have a lot of traffic noise, the room was very nice and\n"
          ]
        }
      ]
    },
    {
      "cell_type": "code",
      "source": [
        "def post_process(text, k=3):\n",
        "    if not text.endswith(\".\"):\n",
        "        full_stop_split_str = text.split(\".\")\n",
        "        clean_full_stop_split_str = [s.strip() for s in full_stop_split_str if s.strip()]\n",
        "        if len(clean_full_stop_split_str) > 1:\n",
        "            last_sentence = clean_full_stop_split_str[-1]\n",
        "        else:\n",
        "            return text\n",
        "        last_sentence_len = len(last_sentence.split(\" \"))\n",
        "        if last_sentence_len > k:\n",
        "            return text\n",
        "        return (\". \").join(clean_full_stop_split_str[:-1]).strip()+(\".\")\n",
        "    return text"
      ],
      "metadata": {
        "id": "VUytlaTpQu4s"
      },
      "execution_count": 7,
      "outputs": []
    },
    {
      "cell_type": "code",
      "source": [
        "fake_reviews['text'] = fake_reviews['text'].apply(post_process)"
      ],
      "metadata": {
        "id": "0P7a3JFACje-"
      },
      "execution_count": 8,
      "outputs": []
    },
    {
      "cell_type": "markdown",
      "source": [
        "When continuing the generation process, I accidently skipped one prompt, meaning that only 4999 reviews are produced. To maintain a balanced sample, only 4999 real reviews will be used."
      ],
      "metadata": {
        "id": "2ZfveXGBENL2"
      }
    },
    {
      "cell_type": "code",
      "source": [
        "real_reviews = real_reviews.sample(n=4999, random_state=2023).reset_index()\n",
        "real_reviews.drop(columns=['index'], inplace=True)"
      ],
      "metadata": {
        "id": "zfxaqDvyCc4y"
      },
      "execution_count": 12,
      "outputs": []
    },
    {
      "cell_type": "code",
      "source": [
        "real_reviews['label'] = 1\n",
        "fake_reviews['label'] = 0"
      ],
      "metadata": {
        "id": "YC9eE90_Ecbn"
      },
      "execution_count": 13,
      "outputs": []
    },
    {
      "cell_type": "code",
      "source": [
        "result_df = pd.concat([real_reviews, fake_reviews], ignore_index=True)"
      ],
      "metadata": {
        "id": "tYm0WgNuEqPS"
      },
      "execution_count": 14,
      "outputs": []
    },
    {
      "cell_type": "code",
      "source": [
        "result_df.to_csv('/content/drive/MyDrive/data/final_review_dataset.csv', sep=\";\", index=False)"
      ],
      "metadata": {
        "id": "ukz2XLsYE7dI"
      },
      "execution_count": 15,
      "outputs": []
    }
  ],
  "metadata": {
    "language_info": {
      "name": "python"
    },
    "orig_nbformat": 4,
    "colab": {
      "provenance": []
    },
    "kernelspec": {
      "name": "python3",
      "display_name": "Python 3"
    }
  },
  "nbformat": 4,
  "nbformat_minor": 0
}